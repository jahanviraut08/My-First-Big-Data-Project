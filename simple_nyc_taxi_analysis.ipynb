{
  "nbformat": 4,
  "nbformat_minor": 0,
  "metadata": {
    "colab": {
      "provenance": [],
      "authorship_tag": "ABX9TyM2LxGLTZkkq6WgK8ES+cQ2",
      "include_colab_link": true
    },
    "kernelspec": {
      "name": "python3",
      "display_name": "Python 3"
    },
    "language_info": {
      "name": "python"
    }
  },
  "cells": [
    {
      "cell_type": "markdown",
      "metadata": {
        "id": "view-in-github",
        "colab_type": "text"
      },
      "source": [
        "<a href=\"https://colab.research.google.com/github/jahanviraut08/My-First-Big-Data-Project/blob/main/simple_nyc_taxi_analysis.ipynb\" target=\"_parent\"><img src=\"https://colab.research.google.com/assets/colab-badge.svg\" alt=\"Open In Colab\"/></a>"
      ]
    },
    {
      "cell_type": "markdown",
      "source": [
        "# My First Big Data Project: NYC Taxi Analysis with PySpark\n",
        "\n",
        "Hi! This is a simple analysis of NYC taxi rides from January 2023. The dataset has **3 million rows**—that's big data!\n",
        "\n",
        "**What we'll do (step by step):**\n",
        "1. Start PySpark (like a super calculator for huge files).\n",
        "2. Load the big file (without crashing your computer).\n",
        "3. Clean it a bit (remove junk).\n",
        "4. Find insights: Busiest hours and average prices.\n",
        "5. Make a chart.\n",
        "6. Show how it scales (PySpark splits work across \"workers\").\n",
        "\n",
        "**Why easy?** Runs in minutes. No local setup!\n",
        "\n",
        "Dataset: [NYC Taxi Jan 2023](https://www.nyc.gov/site/tlc/about/tlc-trip-record-data.page)"
      ],
      "metadata": {
        "id": "4fR6PkvJZ4Dm"
      }
    },
    {
      "cell_type": "code",
      "source": [
        "# Step 1: Import tools (like libraries in Python)\n",
        "# PySpark is for big data; Pandas/Matplotlib for charts\n",
        "from pyspark.sql import SparkSession\n",
        "from pyspark.sql.functions import hour, avg, count, col\n",
        "import matplotlib.pyplot as plt\n",
        "import pandas as pd  # For small charts\n",
        "\n",
        "# Step 2: Create a \"Spark Session\" (like opening a big data app)\n",
        "# This runs locally in Colab, using multiple \"cores\" (parts of your computer) for speed\n",
        "spark = SparkSession.builder \\\n",
        "    .appName(\"Simple NYC Taxi Analysis\") \\\n",
        "    .getOrCreate()\n",
        "\n",
        "# Quiet down extra messages\n",
        "spark.sparkContext.setLogLevel(\"WARN\")\n",
        "\n",
        "print(\"PySpark started! Version:\", spark.version)\n",
        "print(\"This can handle millions of rows easily.\")"
      ],
      "metadata": {
        "colab": {
          "base_uri": "https://localhost:8080/"
        },
        "id": "oaF_SXVMZsIV",
        "outputId": "d641a042-2331-46e7-ca67-3d3215498955"
      },
      "execution_count": 10,
      "outputs": [
        {
          "output_type": "stream",
          "name": "stdout",
          "text": [
            "PySpark started! Version: 3.5.1\n",
            "This can handle millions of rows easily.\n"
          ]
        }
      ]
    },
    {
      "cell_type": "markdown",
      "source": [
        "## Step 2: Load the Big Dataset\n",
        "\n",
        "PySpark reads the file in \"pieces\" (partitions) so it doesn't load everything at once. This shows scalability—if the file was 100x bigger, it would still work by adding more computers!"
      ],
      "metadata": {
        "id": "Pp3Mqw-abLUg"
      }
    },
    {
      "cell_type": "code",
      "source": [
        "# Step 3: Load the data file (update path if needed)\n",
        "# In Colab, it's in /content/ after upload\n",
        "data_path = \"/content/yellow_tripdata_2023-01 (1).parquet\"\n",
        "\n",
        "# Read the big file (lazy: doesn't do work yet)\n",
        "df = spark.read.parquet(data_path)\n",
        "\n",
        "# \"Cache\" it (save in memory for faster reuse)\n",
        "df.cache()\n",
        "\n",
        "# Show what the data looks like (schema = columns/types)\n",
        "df.printSchema()\n",
        "\n",
        "# Count total rows (this \"triggers\" the load—takes ~10-30 seconds)\n",
        "total_rows = df.count()\n",
        "print(f\"Loaded {total_rows:,} rows! That's big data. 😎\")\n",
        "\n",
        "# Show first 3 rows (sample)\n",
        "df.show(3)"
      ],
      "metadata": {
        "colab": {
          "base_uri": "https://localhost:8080/"
        },
        "id": "8YFmJJJxbKPe",
        "outputId": "3e2f9759-3569-4c4d-bb37-055e482d08bf"
      },
      "execution_count": 11,
      "outputs": [
        {
          "output_type": "stream",
          "name": "stdout",
          "text": [
            "root\n",
            " |-- VendorID: long (nullable = true)\n",
            " |-- tpep_pickup_datetime: timestamp_ntz (nullable = true)\n",
            " |-- tpep_dropoff_datetime: timestamp_ntz (nullable = true)\n",
            " |-- passenger_count: double (nullable = true)\n",
            " |-- trip_distance: double (nullable = true)\n",
            " |-- RatecodeID: double (nullable = true)\n",
            " |-- store_and_fwd_flag: string (nullable = true)\n",
            " |-- PULocationID: long (nullable = true)\n",
            " |-- DOLocationID: long (nullable = true)\n",
            " |-- payment_type: long (nullable = true)\n",
            " |-- fare_amount: double (nullable = true)\n",
            " |-- extra: double (nullable = true)\n",
            " |-- mta_tax: double (nullable = true)\n",
            " |-- tip_amount: double (nullable = true)\n",
            " |-- tolls_amount: double (nullable = true)\n",
            " |-- improvement_surcharge: double (nullable = true)\n",
            " |-- total_amount: double (nullable = true)\n",
            " |-- congestion_surcharge: double (nullable = true)\n",
            " |-- airport_fee: double (nullable = true)\n",
            "\n",
            "Loaded 3,066,766 rows! That's big data. 😎\n",
            "+--------+--------------------+---------------------+---------------+-------------+----------+------------------+------------+------------+------------+-----------+-----+-------+----------+------------+---------------------+------------+--------------------+-----------+\n",
            "|VendorID|tpep_pickup_datetime|tpep_dropoff_datetime|passenger_count|trip_distance|RatecodeID|store_and_fwd_flag|PULocationID|DOLocationID|payment_type|fare_amount|extra|mta_tax|tip_amount|tolls_amount|improvement_surcharge|total_amount|congestion_surcharge|airport_fee|\n",
            "+--------+--------------------+---------------------+---------------+-------------+----------+------------------+------------+------------+------------+-----------+-----+-------+----------+------------+---------------------+------------+--------------------+-----------+\n",
            "|       2| 2023-01-01 00:32:10|  2023-01-01 00:40:36|            1.0|         0.97|       1.0|                 N|         161|         141|           2|        9.3|  1.0|    0.5|       0.0|         0.0|                  1.0|        14.3|                 2.5|        0.0|\n",
            "|       2| 2023-01-01 00:55:08|  2023-01-01 01:01:27|            1.0|          1.1|       1.0|                 N|          43|         237|           1|        7.9|  1.0|    0.5|       4.0|         0.0|                  1.0|        16.9|                 2.5|        0.0|\n",
            "|       2| 2023-01-01 00:25:04|  2023-01-01 00:37:49|            1.0|         2.51|       1.0|                 N|          48|         238|           1|       14.9|  1.0|    0.5|      15.0|         0.0|                  1.0|        34.9|                 2.5|        0.0|\n",
            "+--------+--------------------+---------------------+---------------+-------------+----------+------------------+------------+------------+------------+-----------+-----+-------+----------+------------+---------------------+------------+--------------------+-----------+\n",
            "only showing top 3 rows\n",
            "\n"
          ]
        }
      ]
    },
    {
      "cell_type": "markdown",
      "source": [
        "## Step 3: Clean Data and Find Insights\n",
        "\n",
        "Clean: Remove bad rows (e.g., free rides or missing info).  \n",
        "Analyze: Group by hour to see busiest times. PySpark does this in parallel (fast for big data)."
      ],
      "metadata": {
        "id": "8WI6RuafdjWc"
      }
    },
    {
      "cell_type": "code",
      "source": [
        "# Step 4: Clean the data (filter good rides only)\n",
        "# Keep rides with positive price and distance, and add \"hour\" from pickup time\n",
        "df_clean = df.filter(\n",
        "    (col(\"fare_amount\") > 0) &  # Price > 0\n",
        "    (col(\"trip_distance\") > 0)  # Distance > 0\n",
        ").withColumn(\n",
        "    \"pickup_hour\", hour(col(\"tpep_pickup_datetime\"))  # Extract hour (0-23)\n",
        ").select(  # Pick useful columns\n",
        "    \"pickup_hour\",\n",
        "    \"fare_amount\",\n",
        "    \"trip_distance\"\n",
        ")\n",
        "\n",
        "# Count cleaned rows\n",
        "clean_rows = df_clean.count()\n",
        "print(f\"Cleaned data: {clean_rows:,} good rides.\")\n",
        "\n",
        "# Step 5: Analyze - Average fare by hour (group and average)\n",
        "# This runs in parallel across data pieces!\n",
        "hourly_stats = df_clean.groupBy(\"pickup_hour\").agg(\n",
        "    avg(\"fare_amount\").alias(\"avg_fare\"),  # Average price\n",
        "    count(\"*\").alias(\"ride_count\")  # Number of rides\n",
        ").orderBy(\"pickup_hour\")  # Sort by hour\n",
        "\n",
        "# Show results (small table)\n",
        "print(\"Average Fare and Ride Count by Hour:\")\n",
        "hourly_stats.show(24)  # All 24 hours\n",
        "\n",
        "# Step 6: Make a chart (convert to small Pandas table for plotting)\n",
        "hourly_pd = hourly_stats.toPandas()\n",
        "\n",
        "# Plot: Bar chart of average fare by hour\n",
        "plt.figure(figsize=(10, 5))  # Size\n",
        "plt.bar(hourly_pd[\"pickup_hour\"], hourly_pd[\"avg_fare\"], color=\"skyblue\")\n",
        "plt.title(\"Average Taxi Fare by Hour (NYC Jan 2023)\")\n",
        "plt.xlabel(\"Hour of Day (0 = Midnight)\")\n",
        "plt.ylabel(\"Average Fare ($)\")\n",
        "plt.xticks(range(0, 24, 2))  # Every 2 hours\n",
        "plt.grid(True, alpha=0.3)\n",
        "plt.show()\n",
        "\n",
        "# Simple Insight (print it)\n",
        "peak_hour = hourly_pd.loc[hourly_pd[\"avg_fare\"].idxmax(), \"pickup_hour\"]\n",
        "peak_fare = hourly_pd[\"avg_fare\"].max()\n",
        "print(f\"\\nInsight: Busiest/most expensive hour is {int(peak_hour)}:00 with avg ${peak_fare:.2f}!\")\n",
        "print(\"Why? Evening rush hour—more traffic, longer waits.\")\n",
        "print(\"Scalability: This took seconds for 3M rows. For 100M, add more computers!\")"
      ],
      "metadata": {
        "colab": {
          "base_uri": "https://localhost:8080/",
          "height": 1000
        },
        "id": "EvO_hfObdiB5",
        "outputId": "d0f65f84-0c21-4d66-c383-3d4ce82e4103"
      },
      "execution_count": 12,
      "outputs": [
        {
          "output_type": "stream",
          "name": "stdout",
          "text": [
            "Cleaned data: 2,998,382 good rides.\n",
            "Average Fare and Ride Count by Hour:\n",
            "+-----------+------------------+----------+\n",
            "|pickup_hour|          avg_fare|ride_count|\n",
            "+-----------+------------------+----------+\n",
            "|          0|  19.8403082576793|     82723|\n",
            "|          1| 17.97220474338242|     58102|\n",
            "|          2| 16.96644995701847|     40715|\n",
            "|          3|17.996855885254753|     26354|\n",
            "|          4|22.518930780209367|     16816|\n",
            "|          5| 26.57738575858656|     17091|\n",
            "|          6| 22.21829420344406|     42508|\n",
            "|          7|19.013236967662106|     84885|\n",
            "|          8| 17.53695717118438|    114479|\n",
            "|          9| 17.63424759813807|    128442|\n",
            "|         10|17.713729595281126|    140715|\n",
            "|         11|17.417085976506108|    151018|\n",
            "|         12|17.764331815530177|    166249|\n",
            "|         13|  18.4527331483971|    174835|\n",
            "|         14|19.720029760793892|    187495|\n",
            "|         15|19.280018737800795|    192125|\n",
            "|         16| 19.52820580447316|    191473|\n",
            "|         17|18.643625286459454|    205090|\n",
            "|         18|17.014971543370503|    211550|\n",
            "|         19|17.626385976981332|    188975|\n",
            "|         20|17.997594901617635|    162326|\n",
            "|         21|18.480446190578647|    158318|\n",
            "|         22|19.405061846454394|    144309|\n",
            "|         23|20.583632826127868|    111789|\n",
            "+-----------+------------------+----------+\n",
            "\n"
          ]
        },
        {
          "output_type": "display_data",
          "data": {
            "text/plain": [
              "<Figure size 1000x500 with 1 Axes>"
            ],
            "image/png": "[encoded data removed]"
          },
          "metadata": {}
        },
        {
          "output_type": "stream",
          "name": "stdout",
          "text": [
            "\n",
            "Insight: Busiest/most expensive hour is 5:00 with avg $26.58!\n",
            "Why? Evening rush hour—more traffic, longer waits.\n",
            "Scalability: This took seconds for 3M rows. For 100M, add more computers!\n"
          ]
        }
      ]
    },
    {
      "cell_type": "code",
      "source": [
        "# Step 7: Stop PySpark (good habit)\n",
        "spark.stop()\n",
        "print(\"Done! Your first big data analysis. 🎉\")"
      ],
      "metadata": {
        "colab": {
          "base_uri": "https://localhost:8080/"
        },
        "id": "rmBeFseZeMGx",
        "outputId": "7e79562b-9870-4192-a0bd-1907a9b820fa"
      },
      "execution_count": 13,
      "outputs": [
        {
          "output_type": "stream",
          "name": "stdout",
          "text": [
            "Done! Your first big data analysis. 🎉\n"
          ]
        }
      ]
    }
  ]
}